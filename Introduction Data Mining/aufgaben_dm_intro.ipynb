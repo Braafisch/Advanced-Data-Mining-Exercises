{
  "cells": [
    {
      "cell_type": "markdown",
      "metadata": {
        "id": "view-in-github",
        "colab_type": "text"
      },
      "source": [
        "<a href=\"https://colab.research.google.com/github/Braafisch/Advanced-Data-Mining-Exercises/blob/main/Introduction%20Data%20Mining/aufgaben_dm_intro.ipynb\" target=\"_parent\"><img src=\"https://colab.research.google.com/assets/colab-badge.svg\" alt=\"Open In Colab\"/></a>"
      ]
    },
    {
      "cell_type": "markdown",
      "metadata": {
        "id": "sy_D52gyEYJC"
      },
      "source": [
        "Exercise Basics Data Mining\n",
        "===========================\n",
        "\n"
      ]
    },
    {
      "cell_type": "markdown",
      "metadata": {
        "id": "_u8SuIY6EYJL"
      },
      "source": [
        "## Exercise 1: Statistical description of data\n",
        "\n"
      ]
    },
    {
      "cell_type": "markdown",
      "metadata": {
        "id": "30UQCSTdEYJM"
      },
      "source": [
        "Let there be a small data set with one feature: {8, 2, 4, 5, 1, 2, 6}\n",
        "\n",
        "1.  Calculate the following statistical features by hand!\n",
        "    (Please do NOT use Python or any calculator):\n",
        "    -   mean value\n",
        "    -   median\n",
        "    -   quantile $Q_{0.25}$\n",
        "    -   quantile $Q_{0.75}$\n",
        "\n",
        "2.  Now use Python to calculate the statistical features.\n",
        "    Do you get the same values?\n",
        "\n",
        "3.  Manually draw (by hand!) a histogram with bins of width 2 (bins: (0,2] , (2,4] ,&#x2026;)\n",
        "\n",
        "4.  Now use Python to plot the histogram. Do you get the same result?\n",
        "\n"
      ]
    },
    {
      "cell_type": "markdown",
      "source": [
        "### 1.1 \n",
        "\n",
        "$\\frac{8+2+4+5+1+2+6}{7} = 4$\n",
        "\n",
        "$4$\n",
        "\n",
        "$\\frac{1+2}{2}=1.5$\n",
        "\n",
        "$\\frac{1+2+2+4+5+6}{6}=3.33$\n",
        "\n"
      ],
      "metadata": {
        "id": "vFe3-yIsSNio"
      }
    },
    {
      "cell_type": "markdown",
      "source": [
        "### 1.2"
      ],
      "metadata": {
        "id": "ZRedDQvmW2Vq"
      }
    },
    {
      "cell_type": "code",
      "source": [
        "import numpy as np\n",
        "\n",
        "a = np.array([8,2,4,5,1,2,6])\n",
        "print(np.mean(a))\n",
        "print(np.median(a))\n",
        "print(np.quantile(a,0.25))\n",
        "print(np.quantile(a,0.75))"
      ],
      "metadata": {
        "colab": {
          "base_uri": "https://localhost:8080/"
        },
        "id": "70BfRGnWW7yG",
        "outputId": "531351ce-772e-4b73-cf18-9bfc943e4541"
      },
      "execution_count": null,
      "outputs": [
        {
          "output_type": "stream",
          "name": "stdout",
          "text": [
            "4.0\n",
            "4.0\n",
            "2.0\n",
            "5.5\n"
          ]
        }
      ]
    },
    {
      "cell_type": "markdown",
      "metadata": {
        "id": "VwyNjbP1EYJO"
      },
      "source": [
        "## Exercise 2: Project understanding and Data understanding\n",
        "\n"
      ]
    },
    {
      "cell_type": "markdown",
      "metadata": {
        "id": "-5Ez4hg_EYJO"
      },
      "source": [
        "First download the wine dataset from Moodle (wine.csv).\n",
        "You can read a CSV with pandas using `pandas.from_csv`. Importing pandas is achieved\n",
        "with\n",
        "\n"
      ]
    },
    {
      "cell_type": "code",
      "execution_count": 1,
      "metadata": {
        "id": "mVsSQMyMEYJP"
      },
      "outputs": [],
      "source": [
        "import pandas as pd\n",
        "# df = pd.read_csv(...)"
      ]
    },
    {
      "cell_type": "code",
      "source": [
        "import requests\n",
        "import io\n",
        "import shutil\n",
        "\n",
        "url = 'https://raw.githubusercontent.com/Braafisch/Advanced-Data-Mining-Exercises/main/Introduction%20Data%20Mining/wine.csv'\n",
        "response = requests.get(url, allow_redirects = True)\n",
        "\n",
        "with open('wine.csv', 'wb') as fin:\n",
        "    shutil.copyfileobj(io.BytesIO(response.content), fin)"
      ],
      "metadata": {
        "id": "Zz1LwzyHYcRz"
      },
      "execution_count": 2,
      "outputs": []
    },
    {
      "cell_type": "markdown",
      "metadata": {
        "id": "ZMsxY_QWEYJR"
      },
      "source": [
        "Using `pd` as alias is a convention.\n",
        "\n"
      ]
    },
    {
      "cell_type": "markdown",
      "metadata": {
        "id": "kCXyY8QvEYJS"
      },
      "source": [
        "### Project and data understanding\n",
        "\n"
      ]
    },
    {
      "cell_type": "markdown",
      "metadata": {
        "id": "FGljdeuSEYJT"
      },
      "source": [
        "**Project Goal**: Using chemical analysis to determine the origin of wines using the „wine“ data set.\n",
        "\n",
        "Your data to solve the task:\n",
        "\n",
        "-   3 different types of Italian wine\n",
        "    -   number of instances:  180\n",
        "    -   number of features: 13\n",
        "    -   number of classes: 3\n",
        "\n",
        "-   features:\n",
        "    -   Alcohol\n",
        "    -   Malic acid\n",
        "    -   Ash\n",
        "    -   Alcalinity of ash\n",
        "    -   Magnesium\n",
        "    -   Total phenols\n",
        "    -   Flavanoids\n",
        "    -   Nonflavanoid phenols\n",
        "    -   Proanthocyanins\n",
        "    -   Color intensity\n",
        "    -   Hue\n",
        "    -   OD280/OD315 of diluted wines\n",
        "    -   Proline\n",
        "\n",
        "-   one column „class“: with the types of wine ${1, 2, 3}$\n",
        "\n",
        "Read the csv-file with the wine data set in a Pandas data frame.\n",
        "\n",
        "1.  Check if all data objects and features are available, compare the number of lines\n",
        "    with the description above.\n",
        "2.  Check the types of your attributes (there is one column where it does not make sense),\n",
        "3.  also check for duplicates and missing values.\n",
        "\n",
        "If you find duplicates or missing values remove the corresponding objects.\n",
        "\n",
        "**Hints**:\n",
        "\n",
        "-   There is one column with a non-sense value in it.\n",
        "-   If a file is read, the types of each column are determined automatically (if possible).\n",
        "    It might happen that there are different types in one column.\n",
        "    As the documentation tells us: **Columns with mixed types are stored with the object dtype**.\n",
        "-   Duplicates can be removed with the method `DataFrame.duplicated()`.\n",
        "-   Missing values can be found with `DataFrame.isnull()`.\n",
        "-   Missing values can dropped with `DataFrame.dropna()`.\n",
        "\n"
      ]
    },
    {
      "cell_type": "code",
      "source": [
        "#from pandas.core.arrays.datetimes import DataFrame\n",
        "df = pd.read_csv('wine.csv')\n",
        "print(f'number of instances: {len(df.index)}')\n",
        "print(f'number of features: {df.shape[1]-1}')\n",
        "print(f'number of classes: {len(df[\"class\"].unique())}')\n",
        "\n",
        "print(df.dtypes)\n",
        "df.columns[df.isnull().any()]\n",
        "#print()\n",
        "#df"
      ],
      "metadata": {
        "id": "VsjP6OfHaS7c",
        "outputId": "c7553c56-ba1b-4378-cc70-bfc6a89a741d",
        "colab": {
          "base_uri": "https://localhost:8080/",
          "height": 797
        }
      },
      "execution_count": 23,
      "outputs": [
        {
          "output_type": "stream",
          "name": "stdout",
          "text": [
            "number of instances: 181\n",
            "number of features: 13\n",
            "number of classes: 3\n",
            "class                             int64\n",
            "Alcohol                         float64\n",
            "Malic acid                      float64\n",
            "Ash                              object\n",
            "Alcalinity of ash               float64\n",
            "Magnesium                         int64\n",
            "Total phenols                   float64\n",
            "Flavanoids                      float64\n",
            "Nonflavanoid phenols            float64\n",
            "Proanthocyanins                 float64\n",
            "Color intensity                 float64\n",
            "Hue                             float64\n",
            "OD280/OD315 of diluted wines    float64\n",
            "Proline                         float64\n",
            "dtype: object\n"
          ]
        },
        {
          "output_type": "execute_result",
          "data": {
            "text/plain": [
              "     class  Alcohol  Malic acid   Ash  Alcalinity of ash  Magnesium  \\\n",
              "0        1    14.22        1.71  2.43               15.6        128   \n",
              "1        1    14.23        1.71  2.43               15.6        127   \n",
              "2        1    13.20        1.78  2.14               11.2        100   \n",
              "3        1    13.16        2.36  2.67               18.6        101   \n",
              "4        1    14.37        1.95   2.5               16.8        113   \n",
              "..     ...      ...         ...   ...                ...        ...   \n",
              "176      3    13.71        5.65  2.45               20.5         95   \n",
              "177      3   -13.40        3.91  2.48               23.0        102   \n",
              "178      3    93.27        4.28  2.26               20.0        120   \n",
              "179      3   -13.17        2.59  2.37               20.0        120   \n",
              "180      3    94.13        4.10  2.74               24.5         96   \n",
              "\n",
              "     Total phenols  Flavanoids  Nonflavanoid phenols  Proanthocyanins  \\\n",
              "0             2.80        3.06                  0.28             2.29   \n",
              "1             2.80        3.06                  0.28             2.29   \n",
              "2             2.65        2.76                  0.26             1.28   \n",
              "3             2.80        3.24                  0.30             2.81   \n",
              "4             3.85        3.49                  0.24             2.18   \n",
              "..             ...         ...                   ...              ...   \n",
              "176           1.68        0.61                  0.52             1.06   \n",
              "177           1.80        0.75                  0.43             1.41   \n",
              "178           1.59        0.69                  0.43             1.35   \n",
              "179           1.65        0.68                  0.53             1.46   \n",
              "180           2.05        0.76                  0.56             1.35   \n",
              "\n",
              "     Color intensity   Hue  OD280/OD315 of diluted wines  Proline  \n",
              "0               5.64  1.04                          3.92      NaN  \n",
              "1               5.64  1.04                          3.92   1065.0  \n",
              "2               4.38  1.05                          3.40   1050.0  \n",
              "3               5.68  1.03                          3.17   1185.0  \n",
              "4               7.80  0.86                          3.45   1480.0  \n",
              "..               ...   ...                           ...      ...  \n",
              "176             7.70  0.64                          1.74    740.0  \n",
              "177             7.30  0.70                          1.56    750.0  \n",
              "178            10.20  0.59                          1.56    835.0  \n",
              "179             9.30  0.60                          1.62    840.0  \n",
              "180             9.20  0.61                          1.60    560.0  \n",
              "\n",
              "[181 rows x 14 columns]"
            ],
            "text/html": [
              "\n",
              "  <div id=\"df-ac3061d7-c739-4ff3-9a0e-77182f59e19d\">\n",
              "    <div class=\"colab-df-container\">\n",
              "      <div>\n",
              "<style scoped>\n",
              "    .dataframe tbody tr th:only-of-type {\n",
              "        vertical-align: middle;\n",
              "    }\n",
              "\n",
              "    .dataframe tbody tr th {\n",
              "        vertical-align: top;\n",
              "    }\n",
              "\n",
              "    .dataframe thead th {\n",
              "        text-align: right;\n",
              "    }\n",
              "</style>\n",
              "<table border=\"1\" class=\"dataframe\">\n",
              "  <thead>\n",
              "    <tr style=\"text-align: right;\">\n",
              "      <th></th>\n",
              "      <th>class</th>\n",
              "      <th>Alcohol</th>\n",
              "      <th>Malic acid</th>\n",
              "      <th>Ash</th>\n",
              "      <th>Alcalinity of ash</th>\n",
              "      <th>Magnesium</th>\n",
              "      <th>Total phenols</th>\n",
              "      <th>Flavanoids</th>\n",
              "      <th>Nonflavanoid phenols</th>\n",
              "      <th>Proanthocyanins</th>\n",
              "      <th>Color intensity</th>\n",
              "      <th>Hue</th>\n",
              "      <th>OD280/OD315 of diluted wines</th>\n",
              "      <th>Proline</th>\n",
              "    </tr>\n",
              "  </thead>\n",
              "  <tbody>\n",
              "    <tr>\n",
              "      <th>0</th>\n",
              "      <td>1</td>\n",
              "      <td>14.22</td>\n",
              "      <td>1.71</td>\n",
              "      <td>2.43</td>\n",
              "      <td>15.6</td>\n",
              "      <td>128</td>\n",
              "      <td>2.80</td>\n",
              "      <td>3.06</td>\n",
              "      <td>0.28</td>\n",
              "      <td>2.29</td>\n",
              "      <td>5.64</td>\n",
              "      <td>1.04</td>\n",
              "      <td>3.92</td>\n",
              "      <td>NaN</td>\n",
              "    </tr>\n",
              "    <tr>\n",
              "      <th>1</th>\n",
              "      <td>1</td>\n",
              "      <td>14.23</td>\n",
              "      <td>1.71</td>\n",
              "      <td>2.43</td>\n",
              "      <td>15.6</td>\n",
              "      <td>127</td>\n",
              "      <td>2.80</td>\n",
              "      <td>3.06</td>\n",
              "      <td>0.28</td>\n",
              "      <td>2.29</td>\n",
              "      <td>5.64</td>\n",
              "      <td>1.04</td>\n",
              "      <td>3.92</td>\n",
              "      <td>1065.0</td>\n",
              "    </tr>\n",
              "    <tr>\n",
              "      <th>2</th>\n",
              "      <td>1</td>\n",
              "      <td>13.20</td>\n",
              "      <td>1.78</td>\n",
              "      <td>2.14</td>\n",
              "      <td>11.2</td>\n",
              "      <td>100</td>\n",
              "      <td>2.65</td>\n",
              "      <td>2.76</td>\n",
              "      <td>0.26</td>\n",
              "      <td>1.28</td>\n",
              "      <td>4.38</td>\n",
              "      <td>1.05</td>\n",
              "      <td>3.40</td>\n",
              "      <td>1050.0</td>\n",
              "    </tr>\n",
              "    <tr>\n",
              "      <th>3</th>\n",
              "      <td>1</td>\n",
              "      <td>13.16</td>\n",
              "      <td>2.36</td>\n",
              "      <td>2.67</td>\n",
              "      <td>18.6</td>\n",
              "      <td>101</td>\n",
              "      <td>2.80</td>\n",
              "      <td>3.24</td>\n",
              "      <td>0.30</td>\n",
              "      <td>2.81</td>\n",
              "      <td>5.68</td>\n",
              "      <td>1.03</td>\n",
              "      <td>3.17</td>\n",
              "      <td>1185.0</td>\n",
              "    </tr>\n",
              "    <tr>\n",
              "      <th>4</th>\n",
              "      <td>1</td>\n",
              "      <td>14.37</td>\n",
              "      <td>1.95</td>\n",
              "      <td>2.5</td>\n",
              "      <td>16.8</td>\n",
              "      <td>113</td>\n",
              "      <td>3.85</td>\n",
              "      <td>3.49</td>\n",
              "      <td>0.24</td>\n",
              "      <td>2.18</td>\n",
              "      <td>7.80</td>\n",
              "      <td>0.86</td>\n",
              "      <td>3.45</td>\n",
              "      <td>1480.0</td>\n",
              "    </tr>\n",
              "    <tr>\n",
              "      <th>...</th>\n",
              "      <td>...</td>\n",
              "      <td>...</td>\n",
              "      <td>...</td>\n",
              "      <td>...</td>\n",
              "      <td>...</td>\n",
              "      <td>...</td>\n",
              "      <td>...</td>\n",
              "      <td>...</td>\n",
              "      <td>...</td>\n",
              "      <td>...</td>\n",
              "      <td>...</td>\n",
              "      <td>...</td>\n",
              "      <td>...</td>\n",
              "      <td>...</td>\n",
              "    </tr>\n",
              "    <tr>\n",
              "      <th>176</th>\n",
              "      <td>3</td>\n",
              "      <td>13.71</td>\n",
              "      <td>5.65</td>\n",
              "      <td>2.45</td>\n",
              "      <td>20.5</td>\n",
              "      <td>95</td>\n",
              "      <td>1.68</td>\n",
              "      <td>0.61</td>\n",
              "      <td>0.52</td>\n",
              "      <td>1.06</td>\n",
              "      <td>7.70</td>\n",
              "      <td>0.64</td>\n",
              "      <td>1.74</td>\n",
              "      <td>740.0</td>\n",
              "    </tr>\n",
              "    <tr>\n",
              "      <th>177</th>\n",
              "      <td>3</td>\n",
              "      <td>-13.40</td>\n",
              "      <td>3.91</td>\n",
              "      <td>2.48</td>\n",
              "      <td>23.0</td>\n",
              "      <td>102</td>\n",
              "      <td>1.80</td>\n",
              "      <td>0.75</td>\n",
              "      <td>0.43</td>\n",
              "      <td>1.41</td>\n",
              "      <td>7.30</td>\n",
              "      <td>0.70</td>\n",
              "      <td>1.56</td>\n",
              "      <td>750.0</td>\n",
              "    </tr>\n",
              "    <tr>\n",
              "      <th>178</th>\n",
              "      <td>3</td>\n",
              "      <td>93.27</td>\n",
              "      <td>4.28</td>\n",
              "      <td>2.26</td>\n",
              "      <td>20.0</td>\n",
              "      <td>120</td>\n",
              "      <td>1.59</td>\n",
              "      <td>0.69</td>\n",
              "      <td>0.43</td>\n",
              "      <td>1.35</td>\n",
              "      <td>10.20</td>\n",
              "      <td>0.59</td>\n",
              "      <td>1.56</td>\n",
              "      <td>835.0</td>\n",
              "    </tr>\n",
              "    <tr>\n",
              "      <th>179</th>\n",
              "      <td>3</td>\n",
              "      <td>-13.17</td>\n",
              "      <td>2.59</td>\n",
              "      <td>2.37</td>\n",
              "      <td>20.0</td>\n",
              "      <td>120</td>\n",
              "      <td>1.65</td>\n",
              "      <td>0.68</td>\n",
              "      <td>0.53</td>\n",
              "      <td>1.46</td>\n",
              "      <td>9.30</td>\n",
              "      <td>0.60</td>\n",
              "      <td>1.62</td>\n",
              "      <td>840.0</td>\n",
              "    </tr>\n",
              "    <tr>\n",
              "      <th>180</th>\n",
              "      <td>3</td>\n",
              "      <td>94.13</td>\n",
              "      <td>4.10</td>\n",
              "      <td>2.74</td>\n",
              "      <td>24.5</td>\n",
              "      <td>96</td>\n",
              "      <td>2.05</td>\n",
              "      <td>0.76</td>\n",
              "      <td>0.56</td>\n",
              "      <td>1.35</td>\n",
              "      <td>9.20</td>\n",
              "      <td>0.61</td>\n",
              "      <td>1.60</td>\n",
              "      <td>560.0</td>\n",
              "    </tr>\n",
              "  </tbody>\n",
              "</table>\n",
              "<p>181 rows × 14 columns</p>\n",
              "</div>\n",
              "      <button class=\"colab-df-convert\" onclick=\"convertToInteractive('df-ac3061d7-c739-4ff3-9a0e-77182f59e19d')\"\n",
              "              title=\"Convert this dataframe to an interactive table.\"\n",
              "              style=\"display:none;\">\n",
              "        \n",
              "  <svg xmlns=\"http://www.w3.org/2000/svg\" height=\"24px\"viewBox=\"0 0 24 24\"\n",
              "       width=\"24px\">\n",
              "    <path d=\"M0 0h24v24H0V0z\" fill=\"none\"/>\n",
              "    <path d=\"M18.56 5.44l.94 2.06.94-2.06 2.06-.94-2.06-.94-.94-2.06-.94 2.06-2.06.94zm-11 1L8.5 8.5l.94-2.06 2.06-.94-2.06-.94L8.5 2.5l-.94 2.06-2.06.94zm10 10l.94 2.06.94-2.06 2.06-.94-2.06-.94-.94-2.06-.94 2.06-2.06.94z\"/><path d=\"M17.41 7.96l-1.37-1.37c-.4-.4-.92-.59-1.43-.59-.52 0-1.04.2-1.43.59L10.3 9.45l-7.72 7.72c-.78.78-.78 2.05 0 2.83L4 21.41c.39.39.9.59 1.41.59.51 0 1.02-.2 1.41-.59l7.78-7.78 2.81-2.81c.8-.78.8-2.07 0-2.86zM5.41 20L4 18.59l7.72-7.72 1.47 1.35L5.41 20z\"/>\n",
              "  </svg>\n",
              "      </button>\n",
              "      \n",
              "  <style>\n",
              "    .colab-df-container {\n",
              "      display:flex;\n",
              "      flex-wrap:wrap;\n",
              "      gap: 12px;\n",
              "    }\n",
              "\n",
              "    .colab-df-convert {\n",
              "      background-color: #E8F0FE;\n",
              "      border: none;\n",
              "      border-radius: 50%;\n",
              "      cursor: pointer;\n",
              "      display: none;\n",
              "      fill: #1967D2;\n",
              "      height: 32px;\n",
              "      padding: 0 0 0 0;\n",
              "      width: 32px;\n",
              "    }\n",
              "\n",
              "    .colab-df-convert:hover {\n",
              "      background-color: #E2EBFA;\n",
              "      box-shadow: 0px 1px 2px rgba(60, 64, 67, 0.3), 0px 1px 3px 1px rgba(60, 64, 67, 0.15);\n",
              "      fill: #174EA6;\n",
              "    }\n",
              "\n",
              "    [theme=dark] .colab-df-convert {\n",
              "      background-color: #3B4455;\n",
              "      fill: #D2E3FC;\n",
              "    }\n",
              "\n",
              "    [theme=dark] .colab-df-convert:hover {\n",
              "      background-color: #434B5C;\n",
              "      box-shadow: 0px 1px 3px 1px rgba(0, 0, 0, 0.15);\n",
              "      filter: drop-shadow(0px 1px 2px rgba(0, 0, 0, 0.3));\n",
              "      fill: #FFFFFF;\n",
              "    }\n",
              "  </style>\n",
              "\n",
              "      <script>\n",
              "        const buttonEl =\n",
              "          document.querySelector('#df-ac3061d7-c739-4ff3-9a0e-77182f59e19d button.colab-df-convert');\n",
              "        buttonEl.style.display =\n",
              "          google.colab.kernel.accessAllowed ? 'block' : 'none';\n",
              "\n",
              "        async function convertToInteractive(key) {\n",
              "          const element = document.querySelector('#df-ac3061d7-c739-4ff3-9a0e-77182f59e19d');\n",
              "          const dataTable =\n",
              "            await google.colab.kernel.invokeFunction('convertToInteractive',\n",
              "                                                     [key], {});\n",
              "          if (!dataTable) return;\n",
              "\n",
              "          const docLinkHtml = 'Like what you see? Visit the ' +\n",
              "            '<a target=\"_blank\" href=https://colab.research.google.com/notebooks/data_table.ipynb>data table notebook</a>'\n",
              "            + ' to learn more about interactive tables.';\n",
              "          element.innerHTML = '';\n",
              "          dataTable['output_type'] = 'display_data';\n",
              "          await google.colab.output.renderOutput(dataTable, element);\n",
              "          const docLink = document.createElement('div');\n",
              "          docLink.innerHTML = docLinkHtml;\n",
              "          element.appendChild(docLink);\n",
              "        }\n",
              "      </script>\n",
              "    </div>\n",
              "  </div>\n",
              "  "
            ]
          },
          "metadata": {},
          "execution_count": 23
        }
      ]
    },
    {
      "cell_type": "markdown",
      "metadata": {
        "id": "BYbwjNYNEYJU"
      },
      "source": [
        "### Data understanding and preparation, visualization\n",
        "\n"
      ]
    },
    {
      "cell_type": "markdown",
      "metadata": {
        "id": "Sjo6bxKeEYJV"
      },
      "source": [
        "There are outliers in the data set (hint: 4 obvious outliers in one column, which you will find without having any background in chemistry).\n",
        "\n",
        "-   Find the outliers and remove the entire instances (the entire rows).\n",
        "    You can use Python commands and visualization (e.g. histograms or box plots). Which outliers did you find?\n",
        "\n",
        "**Hints**:\n",
        "\n",
        "-   The function `DataFrame.describe()` is useful, check out the argument `percentiles`.\n",
        "-   Make a boxplot of the suspicious column with the member function (`.plot.box()`).\n",
        "\n"
      ]
    },
    {
      "cell_type": "markdown",
      "metadata": {
        "id": "n7TQalD9EYJV"
      },
      "source": [
        "## Exercise 3: Use simple grouping to understand and classify data\n",
        "\n"
      ]
    },
    {
      "cell_type": "markdown",
      "metadata": {
        "id": "3hjKg0r9EYJW"
      },
      "source": [
        "There are many features for each class. A useful  feature to classify wine\n",
        "is such that it behaves differently for different classes.\n",
        "First, let us check the mean of each class. Using the pandas\n",
        "`groupby` function (member function of a DataFrame), you can\n",
        "compute aggregate functions of groups. Use this to compute the\n",
        "mean of each feature for each group.\n",
        "If you found an interesting column, the following command\n",
        "vizualizes the distribution for the different classes.\n",
        "\n"
      ]
    },
    {
      "cell_type": "code",
      "execution_count": null,
      "metadata": {
        "id": "iXn9_U3rEYJW"
      },
      "outputs": [],
      "source": [
        "import seaborn as sns\n",
        "# sns.displot(data=df, x=column, hue='class', kind='kde')"
      ]
    }
  ],
  "metadata": {
    "org": null,
    "kernelspec": {
      "display_name": "Python 3",
      "language": "python",
      "name": "python3"
    },
    "language_info": {
      "codemirror_mode": {
        "name": "ipython",
        "version": 3
      },
      "file_extension": ".py",
      "mimetype": "text/x-python",
      "name": "python",
      "nbconvert_exporter": "python",
      "pygments_lexer": "ipython3",
      "version": "3.5.2"
    },
    "colab": {
      "provenance": [],
      "include_colab_link": true
    }
  },
  "nbformat": 4,
  "nbformat_minor": 0
}